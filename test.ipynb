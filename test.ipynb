{
 "cells": [
  {
   "cell_type": "code",
   "execution_count": 2,
   "id": "ede34efb-6446-4a1a-b496-35975934dc21",
   "metadata": {},
   "outputs": [],
   "source": [
    "from training import Mean"
   ]
  },
  {
   "cell_type": "code",
   "execution_count": null,
   "id": "b5c7c56a-b6a9-4f5f-a5f2-ee226f7df342",
   "metadata": {},
   "outputs": [],
   "source": []
  }
 ],
 "metadata": {
  "kernelspec": {
   "display_name": "Python (ds-utils)",
   "language": "python",
   "name": "ds-utils"
  },
  "language_info": {
   "codemirror_mode": {
    "name": "ipython",
    "version": 3
   },
   "file_extension": ".py",
   "mimetype": "text/x-python",
   "name": "python",
   "nbconvert_exporter": "python",
   "pygments_lexer": "ipython3",
   "version": "3.9.12"
  }
 },
 "nbformat": 4,
 "nbformat_minor": 5
}
